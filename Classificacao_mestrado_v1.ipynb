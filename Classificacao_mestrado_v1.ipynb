{
 "cells": [
  {
   "cell_type": "markdown",
   "metadata": {},
   "source": [
    "## Experimento\n",
    "Neste notebook, serão apresentados o código utilizado no experimento"
   ]
  },
  {
   "cell_type": "markdown",
   "metadata": {},
   "source": [
    "### Importação das bibliotecas"
   ]
  },
  {
   "cell_type": "code",
   "execution_count": 1,
   "metadata": {},
   "outputs": [
    {
     "name": "stderr",
     "output_type": "stream",
     "text": [
      "2024-12-02 19:33:37.639673: I tensorflow/core/util/port.cc:153] oneDNN custom operations are on. You may see slightly different numerical results due to floating-point round-off errors from different computation orders. To turn them off, set the environment variable `TF_ENABLE_ONEDNN_OPTS=0`.\n",
      "2024-12-02 19:33:37.641021: I external/local_xla/xla/tsl/cuda/cudart_stub.cc:32] Could not find cuda drivers on your machine, GPU will not be used.\n",
      "2024-12-02 19:33:37.647663: I external/local_xla/xla/tsl/cuda/cudart_stub.cc:32] Could not find cuda drivers on your machine, GPU will not be used.\n",
      "2024-12-02 19:33:37.668032: E external/local_xla/xla/stream_executor/cuda/cuda_fft.cc:485] Unable to register cuFFT factory: Attempting to register factory for plugin cuFFT when one has already been registered\n",
      "2024-12-02 19:33:37.700695: E external/local_xla/xla/stream_executor/cuda/cuda_dnn.cc:8454] Unable to register cuDNN factory: Attempting to register factory for plugin cuDNN when one has already been registered\n",
      "2024-12-02 19:33:37.710258: E external/local_xla/xla/stream_executor/cuda/cuda_blas.cc:1452] Unable to register cuBLAS factory: Attempting to register factory for plugin cuBLAS when one has already been registered\n",
      "2024-12-02 19:33:37.735354: I tensorflow/core/platform/cpu_feature_guard.cc:210] This TensorFlow binary is optimized to use available CPU instructions in performance-critical operations.\n",
      "To enable the following instructions: AVX2 AVX512F AVX512_VNNI FMA, in other operations, rebuild TensorFlow with the appropriate compiler flags.\n",
      "2024-12-02 19:33:39.517854: W tensorflow/compiler/tf2tensorrt/utils/py_utils.cc:38] TF-TRT Warning: Could not find TensorRT\n"
     ]
    }
   ],
   "source": [
    "import time\n",
    "import numpy as np\n",
    "import pandas as pd\n",
    "from sklearn.metrics import accuracy_score, classification_report\n",
    "import matplotlib.pyplot as plt\n",
    "from sklearn.utils.class_weight import compute_class_weight\n",
    "from keras.models import Sequential\n",
    "from keras.layers import LSTM, Dense\n",
    "from keras.optimizers import Adam\n",
    "from sklearn.metrics import confusion_matrix\n",
    "import seaborn as sns\n",
    "import matplotlib.pyplot as plt\n",
    "\n",
    "from sklearn.ensemble import RandomForestClassifier\n",
    "from sklearn.model_selection import StratifiedKFold\n",
    "import joblib  # Para salvar e carregar o modelo\n",
    "from sklearn.svm import SVC\n",
    "from sklearn.model_selection import KFold \n",
    "\n",
    "\n",
    "#importando bibliotecas\n",
    "from tensorflow import keras\n",
    "from sklearn.utils import shuffle\n",
    "#from keras.preprocessing.text import Tokenizer\n",
    "#from keras.preprocessing.sequence import pad_sequences\n",
    "from tensorflow.keras.preprocessing.text import Tokenizer\n",
    "from tensorflow.keras.preprocessing.sequence import pad_sequences\n",
    "from keras.models import Sequential\n",
    "from keras.layers import Dense, Embedding, LSTM,Bidirectional,Dropout\n",
    "from keras.layers import AveragePooling1D\n",
    "from keras.models import load_model\n",
    "from keras.callbacks import EarlyStopping\n",
    "from keras.optimizers import Adam, RMSprop\n",
    "from numpy import array\n",
    "from numpy import asarray\n",
    "from numpy import zeros\n",
    "from keras.layers import Flatten\n",
    "from sklearn import preprocessing\n",
    "from sklearn.metrics import * \n",
    "import os\n",
    "from imblearn.over_sampling import SMOTE #normalizacao da base\n",
    "#Bibliotecas para rodar os algoritmos em modo classificação\n",
    "from collections import Counter\n",
    "from tensorflow.keras.utils import to_categorical\n",
    "from tensorflow.keras.callbacks import EarlyStopping\n",
    "from sklearn.metrics import accuracy_score, precision_score, recall_score, f1_score, confusion_matrix\n",
    "import time\n",
    "from sklearn.utils.class_weight import compute_class_weight\n",
    "\n"
   ]
  },
  {
   "cell_type": "markdown",
   "metadata": {},
   "source": [
    "### Carregamento dos dados"
   ]
  },
  {
   "cell_type": "code",
   "execution_count": 2,
   "metadata": {},
   "outputs": [],
   "source": [
    "X_embedding = pd.read_csv(\"output_embeddings_xlnet_pt.csv\", header=None) #Xlnet"
   ]
  },
  {
   "cell_type": "code",
   "execution_count": 3,
   "metadata": {},
   "outputs": [
    {
     "name": "stdout",
     "output_type": "stream",
     "text": [
      "Shape of label tensor: (23313, 1)\n",
      "int64\n"
     ]
    }
   ],
   "source": [
    "y = pd.read_csv('estiDeep.data', header=None) #File containing the set of training and test labels.\n",
    "y = np.array(y)\n",
    "print ('Shape of label tensor:', y.shape)\n",
    "print(y.dtype)"
   ]
  },
  {
   "cell_type": "code",
   "execution_count": 4,
   "metadata": {},
   "outputs": [],
   "source": [
    "#Realizando o mapeamento para a sequencia de fibonacci\n",
    "fibonacci_labels = [1, 2, 3, 5, 8, 13, 20, 40, 100]\n",
    "#arredondando para o valor mais próximo dos rótulos Fibonacci.\n",
    "def map_to_fibonacci(estimate):\n",
    "    if estimate <= 1.5:\n",
    "        return 1\n",
    "    elif estimate <= 2.5:\n",
    "        return 2\n",
    "    elif estimate <= 4:\n",
    "        return 3\n",
    "    elif estimate <= 6.5:\n",
    "        return 5\n",
    "    elif estimate <= 10.5:\n",
    "        return 8\n",
    "    elif estimate <= 16.5:\n",
    "        return 13\n",
    "    elif estimate <= 30:\n",
    "        return 20\n",
    "    elif estimate <= 70:\n",
    "        return 40\n",
    "    else:\n",
    "        return 100\n",
    "\n"
   ]
  },
  {
   "cell_type": "code",
   "execution_count": 7,
   "metadata": {},
   "outputs": [],
   "source": [
    "map_to_fibonacci_vec = np.vectorize(map_to_fibonacci)\n",
    "fibonacci_labels = map_to_fibonacci_vec(y)\n",
    "y_fibonacci = fibonacci_labels"
   ]
  },
  {
   "cell_type": "code",
   "execution_count": 8,
   "metadata": {},
   "outputs": [
    {
     "data": {
      "text/plain": [
       "(23313,)"
      ]
     },
     "execution_count": 8,
     "metadata": {},
     "output_type": "execute_result"
    }
   ],
   "source": [
    "y_fibonacci_values = y_fibonacci.flatten()\n",
    "y_fibonacci_values.shape"
   ]
  },
  {
   "cell_type": "markdown",
   "metadata": {},
   "source": [
    "### Realizando Normalização da Base de Dados com SMOTE"
   ]
  },
  {
   "cell_type": "code",
   "execution_count": 11,
   "metadata": {},
   "outputs": [],
   "source": [
    "df_y_labels = pd.DataFrame(y_fibonacci_values, columns=[\"Pontos\"])\n"
   ]
  },
  {
   "cell_type": "code",
   "execution_count": 13,
   "metadata": {},
   "outputs": [
    {
     "name": "stdout",
     "output_type": "stream",
     "text": [
      "Quantidade de itens por classe:\n",
      "Classe 1: 4225 itens\n",
      "Classe 2: 3406 itens\n",
      "Classe 3: 4809 itens\n",
      "Classe 5: 4725 itens\n",
      "Classe 8: 3588 itens\n",
      "Classe 13: 1238 itens\n",
      "Classe 20: 764 itens\n",
      "Classe 40: 397 itens\n",
      "Classe 100: 161 itens\n"
     ]
    }
   ],
   "source": [
    "\n",
    "#Contar a quantidade de itens em cada classe\n",
    "class_counts = pd.Series(y_fibonacci_values).value_counts().sort_index()\n",
    "\n",
    "#Exibir a quantidade de itens por classe\n",
    "print(\"Quantidade de itens por classe:\")\n",
    "for classe, quantidade in class_counts.items():\n",
    "    print(f\"Classe {classe}: {quantidade} itens\")\n",
    "\n",
    "\n",
    "\n"
   ]
  },
  {
   "cell_type": "code",
   "execution_count": 14,
   "metadata": {},
   "outputs": [
    {
     "name": "stdout",
     "output_type": "stream",
     "text": [
      "shape X: (23313, 768)\n",
      "shape Y: (23313, 1)\n"
     ]
    }
   ],
   "source": [
    "#Verificando shape x e y\n",
    "print(\"shape X:\", X_embedding.shape) #vetores embeddings\n",
    "print(\"shape Y:\", y_fibonacci.shape)"
   ]
  },
  {
   "cell_type": "code",
   "execution_count": 15,
   "metadata": {},
   "outputs": [],
   "source": [
    "# Aplicar o SMOTE\n",
    "smote = SMOTE(sampling_strategy='auto')\n",
    "X_res, y_res = smote.fit_resample(X_embedding, y_fibonacci)"
   ]
  },
  {
   "cell_type": "code",
   "execution_count": 16,
   "metadata": {},
   "outputs": [
    {
     "name": "stdout",
     "output_type": "stream",
     "text": [
      "shape X: (43281, 768)\n",
      "shape Y: (43281,)\n"
     ]
    }
   ],
   "source": [
    "#Numero de amostras apos resample\"\n",
    "print(\"shape X:\", X_res.shape) #vetores embeddings\n",
    "print(\"shape Y:\", y_res.shape)"
   ]
  },
  {
   "cell_type": "code",
   "execution_count": 17,
   "metadata": {},
   "outputs": [
    {
     "name": "stdout",
     "output_type": "stream",
     "text": [
      "Quantidade de itens por classe:\n",
      "Classe 1: 4809 itens\n",
      "Classe 2: 4809 itens\n",
      "Classe 3: 4809 itens\n",
      "Classe 5: 4809 itens\n",
      "Classe 8: 4809 itens\n",
      "Classe 13: 4809 itens\n",
      "Classe 20: 4809 itens\n",
      "Classe 40: 4809 itens\n",
      "Classe 100: 4809 itens\n"
     ]
    }
   ],
   "source": [
    "# Contar a quantidade de itens em cada classe\n",
    "class_counts = pd.Series(y_res).value_counts().sort_index()\n",
    "\n",
    "# Exibir a quantidade de itens por classe\n",
    "print(\"Quantidade de itens por classe:\")\n",
    "for classe, quantidade in class_counts.items():\n",
    "    print(f\"Classe {classe}: {quantidade} itens\")"
   ]
  },
  {
   "cell_type": "markdown",
   "metadata": {},
   "source": [
    "### Ajustando o formato de dados para treinamento e teste"
   ]
  },
  {
   "cell_type": "code",
   "execution_count": 18,
   "metadata": {},
   "outputs": [],
   "source": [
    "#tornando X um array numpy\n",
    "X_res_values = X_res.values\n",
    "\n",
    "# Defina o número de sentenças\n",
    "num_sentences = 115\n",
    "num_samples = X_res_values.shape[0]\n",
    "embedding_dim = X_res_values.shape[1]\n",
    "\n",
    "# Truncar e reformular os dados para a entrada do modelo\n",
    "needed_samples = (num_samples // num_sentences) * num_sentences\n",
    "X_truncated = X_res_values[:needed_samples]\n",
    "y_truncated = y_res[:needed_samples]\n",
    "\n",
    "# Reformulando X para o formato adequado para o LSTM\n",
    "X_reshaped = X_truncated.reshape(-1, num_sentences, embedding_dim)\n",
    "y_truncated_resized = y_truncated[:X_reshaped.shape[0]]\n",
    "# Inicialização para armazenar as métricas\n",
    "all_y_test = []\n",
    "all_y_pred = []\n",
    "\n",
    "# Definir número de classes para a camada Softmax\n",
    "num_classes = 9  # Correspondente a 9 classes (0-8)\n",
    "\n",
    "#definindo variavel para realizar cross-validation\n",
    "kf = KFold(n_splits=10, shuffle=True, random_state=1000)\n",
    "#kf = StratifiedKFold(n_splits=10, shuffle=True, random_state=1000)"
   ]
  },
  {
   "cell_type": "code",
   "execution_count": 19,
   "metadata": {},
   "outputs": [
    {
     "name": "stdout",
     "output_type": "stream",
     "text": [
      "(376, 115, 768)\n",
      "(43240,)\n",
      "(43240, 768)\n"
     ]
    }
   ],
   "source": [
    "print(X_reshaped.shape)\n",
    "print(y_truncated.shape)\n",
    "print(X_truncated.shape)"
   ]
  },
  {
   "cell_type": "code",
   "execution_count": 20,
   "metadata": {},
   "outputs": [],
   "source": [
    "#convertendo as classes originais em 0,1,2,3,4,5,6,7,8\n",
    "# Classes originais\n",
    "original_classes = [1, 2, 3, 5, 8, 13, 20, 40, 100]\n",
    "class_to_index = {cls: idx for idx, cls in enumerate(original_classes)}\n",
    "index_to_class = {idx: cls for idx, cls in enumerate(original_classes)}\n",
    "\n",
    "y_encoded = np.array([class_to_index[y] for y in y_truncated])"
   ]
  },
  {
   "cell_type": "code",
   "execution_count": null,
   "metadata": {},
   "outputs": [
    {
     "data": {
      "text/plain": [
       "array([0, 1, 2, 3, 4, 5, 6, 7, 8])"
      ]
     },
     "execution_count": 21,
     "metadata": {},
     "output_type": "execute_result"
    }
   ],
   "source": [
    "np.unique(y_encoded)"
   ]
  },
  {
   "cell_type": "markdown",
   "metadata": {},
   "source": [
    "### Modelo Deep Learning\n",
    "Este modelo utiliza a mesma arquitetura que foi utilizada no modelo de regressão, porém com as alterações:\n",
    "\n",
    "1- Remoção da camada de embeddings (para comparar com RF e SVC e devido os dados ja estarem convertidos em vetores embeddings com xlnet)\n",
    "\n",
    "2- Alteração da camada linear pela camada de softmax\n",
    "\n",
    "3- função de perda:sparse_categorical_crossentropy\n",
    "\n",
    "O restante segue da mesma forma que o modelo de regressão. Lembrando que o objetivo era utilizar o mesmo modelo deep learning para a tarefa de classificação."
   ]
  },
  {
   "cell_type": "code",
   "execution_count": 23,
   "metadata": {},
   "outputs": [
    {
     "name": "stdout",
     "output_type": "stream",
     "text": [
      "(43240, 768)\n",
      "33208320\n",
      "[0 1 2 3 4 5 6 7 8]\n",
      "[0 1 2 3 4 5 6 7 8]\n",
      "(38916, 768)\n",
      "(4324, 768)\n"
     ]
    },
    {
     "ename": "KeyboardInterrupt",
     "evalue": "",
     "output_type": "error",
     "traceback": [
      "\u001b[0;31m---------------------------------------------------------------------------\u001b[0m",
      "\u001b[0;31mKeyboardInterrupt\u001b[0m                         Traceback (most recent call last)",
      "Cell \u001b[0;32mIn[23], line 42\u001b[0m\n\u001b[1;32m     40\u001b[0m \u001b[38;5;66;03m# Treinando o modelo\u001b[39;00m\n\u001b[1;32m     41\u001b[0m start_training \u001b[38;5;241m=\u001b[39m time\u001b[38;5;241m.\u001b[39mtime()\n\u001b[0;32m---> 42\u001b[0m \u001b[43mmodelDeepClass\u001b[49m\u001b[38;5;241;43m.\u001b[39;49m\u001b[43mfit\u001b[49m\u001b[43m(\u001b[49m\n\u001b[1;32m     43\u001b[0m \u001b[43m    \u001b[49m\u001b[43mx_train\u001b[49m\u001b[43m,\u001b[49m\u001b[43m \u001b[49m\u001b[43my_train\u001b[49m\u001b[43m,\u001b[49m\n\u001b[1;32m     44\u001b[0m \u001b[43m    \u001b[49m\u001b[43mbatch_size\u001b[49m\u001b[38;5;241;43m=\u001b[39;49m\u001b[38;5;241;43m128\u001b[39;49m\u001b[43m,\u001b[49m\n\u001b[1;32m     45\u001b[0m \u001b[43m    \u001b[49m\u001b[43mepochs\u001b[49m\u001b[38;5;241;43m=\u001b[39;49m\u001b[38;5;241;43m30\u001b[39;49m\u001b[43m,\u001b[49m\n\u001b[1;32m     46\u001b[0m \u001b[43m    \u001b[49m\u001b[43mvalidation_data\u001b[49m\u001b[38;5;241;43m=\u001b[39;49m\u001b[43m(\u001b[49m\u001b[43mx_test\u001b[49m\u001b[43m,\u001b[49m\u001b[43m \u001b[49m\u001b[43my_test\u001b[49m\u001b[43m)\u001b[49m\u001b[43m,\u001b[49m\n\u001b[1;32m     47\u001b[0m \u001b[43m    \u001b[49m\u001b[43mcallbacks\u001b[49m\u001b[38;5;241;43m=\u001b[39;49m\u001b[43m[\u001b[49m\u001b[43mes\u001b[49m\u001b[43m]\u001b[49m\u001b[43m,\u001b[49m\n\u001b[1;32m     48\u001b[0m \u001b[43m    \u001b[49m\u001b[43mverbose\u001b[49m\u001b[38;5;241;43m=\u001b[39;49m\u001b[38;5;241;43m0\u001b[39;49m\n\u001b[1;32m     49\u001b[0m \u001b[43m\u001b[49m\u001b[43m)\u001b[49m\n\u001b[1;32m     50\u001b[0m end_training \u001b[38;5;241m=\u001b[39m time\u001b[38;5;241m.\u001b[39mtime()\n\u001b[1;32m     51\u001b[0m training_time \u001b[38;5;241m=\u001b[39m end_training \u001b[38;5;241m-\u001b[39m start_training\n",
      "File \u001b[0;32m~/mestrado/lib/python3.12/site-packages/keras/src/utils/traceback_utils.py:117\u001b[0m, in \u001b[0;36mfilter_traceback.<locals>.error_handler\u001b[0;34m(*args, **kwargs)\u001b[0m\n\u001b[1;32m    115\u001b[0m filtered_tb \u001b[38;5;241m=\u001b[39m \u001b[38;5;28;01mNone\u001b[39;00m\n\u001b[1;32m    116\u001b[0m \u001b[38;5;28;01mtry\u001b[39;00m:\n\u001b[0;32m--> 117\u001b[0m     \u001b[38;5;28;01mreturn\u001b[39;00m \u001b[43mfn\u001b[49m\u001b[43m(\u001b[49m\u001b[38;5;241;43m*\u001b[39;49m\u001b[43margs\u001b[49m\u001b[43m,\u001b[49m\u001b[43m \u001b[49m\u001b[38;5;241;43m*\u001b[39;49m\u001b[38;5;241;43m*\u001b[39;49m\u001b[43mkwargs\u001b[49m\u001b[43m)\u001b[49m\n\u001b[1;32m    118\u001b[0m \u001b[38;5;28;01mexcept\u001b[39;00m \u001b[38;5;167;01mException\u001b[39;00m \u001b[38;5;28;01mas\u001b[39;00m e:\n\u001b[1;32m    119\u001b[0m     filtered_tb \u001b[38;5;241m=\u001b[39m _process_traceback_frames(e\u001b[38;5;241m.\u001b[39m__traceback__)\n",
      "File \u001b[0;32m~/mestrado/lib/python3.12/site-packages/keras/src/backend/tensorflow/trainer.py:320\u001b[0m, in \u001b[0;36mTensorFlowTrainer.fit\u001b[0;34m(self, x, y, batch_size, epochs, verbose, callbacks, validation_split, validation_data, shuffle, class_weight, sample_weight, initial_epoch, steps_per_epoch, validation_steps, validation_batch_size, validation_freq)\u001b[0m\n\u001b[1;32m    318\u001b[0m \u001b[38;5;28;01mfor\u001b[39;00m step, iterator \u001b[38;5;129;01min\u001b[39;00m epoch_iterator\u001b[38;5;241m.\u001b[39menumerate_epoch():\n\u001b[1;32m    319\u001b[0m     callbacks\u001b[38;5;241m.\u001b[39mon_train_batch_begin(step)\n\u001b[0;32m--> 320\u001b[0m     logs \u001b[38;5;241m=\u001b[39m \u001b[38;5;28;43mself\u001b[39;49m\u001b[38;5;241;43m.\u001b[39;49m\u001b[43mtrain_function\u001b[49m\u001b[43m(\u001b[49m\u001b[43miterator\u001b[49m\u001b[43m)\u001b[49m\n\u001b[1;32m    321\u001b[0m     callbacks\u001b[38;5;241m.\u001b[39mon_train_batch_end(step, logs)\n\u001b[1;32m    322\u001b[0m     \u001b[38;5;28;01mif\u001b[39;00m \u001b[38;5;28mself\u001b[39m\u001b[38;5;241m.\u001b[39mstop_training:\n",
      "File \u001b[0;32m~/mestrado/lib/python3.12/site-packages/tensorflow/python/util/traceback_utils.py:150\u001b[0m, in \u001b[0;36mfilter_traceback.<locals>.error_handler\u001b[0;34m(*args, **kwargs)\u001b[0m\n\u001b[1;32m    148\u001b[0m filtered_tb \u001b[38;5;241m=\u001b[39m \u001b[38;5;28;01mNone\u001b[39;00m\n\u001b[1;32m    149\u001b[0m \u001b[38;5;28;01mtry\u001b[39;00m:\n\u001b[0;32m--> 150\u001b[0m   \u001b[38;5;28;01mreturn\u001b[39;00m \u001b[43mfn\u001b[49m\u001b[43m(\u001b[49m\u001b[38;5;241;43m*\u001b[39;49m\u001b[43margs\u001b[49m\u001b[43m,\u001b[49m\u001b[43m \u001b[49m\u001b[38;5;241;43m*\u001b[39;49m\u001b[38;5;241;43m*\u001b[39;49m\u001b[43mkwargs\u001b[49m\u001b[43m)\u001b[49m\n\u001b[1;32m    151\u001b[0m \u001b[38;5;28;01mexcept\u001b[39;00m \u001b[38;5;167;01mException\u001b[39;00m \u001b[38;5;28;01mas\u001b[39;00m e:\n\u001b[1;32m    152\u001b[0m   filtered_tb \u001b[38;5;241m=\u001b[39m _process_traceback_frames(e\u001b[38;5;241m.\u001b[39m__traceback__)\n",
      "File \u001b[0;32m~/mestrado/lib/python3.12/site-packages/tensorflow/python/eager/polymorphic_function/polymorphic_function.py:833\u001b[0m, in \u001b[0;36mFunction.__call__\u001b[0;34m(self, *args, **kwds)\u001b[0m\n\u001b[1;32m    830\u001b[0m compiler \u001b[38;5;241m=\u001b[39m \u001b[38;5;124m\"\u001b[39m\u001b[38;5;124mxla\u001b[39m\u001b[38;5;124m\"\u001b[39m \u001b[38;5;28;01mif\u001b[39;00m \u001b[38;5;28mself\u001b[39m\u001b[38;5;241m.\u001b[39m_jit_compile \u001b[38;5;28;01melse\u001b[39;00m \u001b[38;5;124m\"\u001b[39m\u001b[38;5;124mnonXla\u001b[39m\u001b[38;5;124m\"\u001b[39m\n\u001b[1;32m    832\u001b[0m \u001b[38;5;28;01mwith\u001b[39;00m OptionalXlaContext(\u001b[38;5;28mself\u001b[39m\u001b[38;5;241m.\u001b[39m_jit_compile):\n\u001b[0;32m--> 833\u001b[0m   result \u001b[38;5;241m=\u001b[39m \u001b[38;5;28;43mself\u001b[39;49m\u001b[38;5;241;43m.\u001b[39;49m\u001b[43m_call\u001b[49m\u001b[43m(\u001b[49m\u001b[38;5;241;43m*\u001b[39;49m\u001b[43margs\u001b[49m\u001b[43m,\u001b[49m\u001b[43m \u001b[49m\u001b[38;5;241;43m*\u001b[39;49m\u001b[38;5;241;43m*\u001b[39;49m\u001b[43mkwds\u001b[49m\u001b[43m)\u001b[49m\n\u001b[1;32m    835\u001b[0m new_tracing_count \u001b[38;5;241m=\u001b[39m \u001b[38;5;28mself\u001b[39m\u001b[38;5;241m.\u001b[39mexperimental_get_tracing_count()\n\u001b[1;32m    836\u001b[0m without_tracing \u001b[38;5;241m=\u001b[39m (tracing_count \u001b[38;5;241m==\u001b[39m new_tracing_count)\n",
      "File \u001b[0;32m~/mestrado/lib/python3.12/site-packages/tensorflow/python/eager/polymorphic_function/polymorphic_function.py:878\u001b[0m, in \u001b[0;36mFunction._call\u001b[0;34m(self, *args, **kwds)\u001b[0m\n\u001b[1;32m    875\u001b[0m \u001b[38;5;28mself\u001b[39m\u001b[38;5;241m.\u001b[39m_lock\u001b[38;5;241m.\u001b[39mrelease()\n\u001b[1;32m    876\u001b[0m \u001b[38;5;66;03m# In this case we have not created variables on the first call. So we can\u001b[39;00m\n\u001b[1;32m    877\u001b[0m \u001b[38;5;66;03m# run the first trace but we should fail if variables are created.\u001b[39;00m\n\u001b[0;32m--> 878\u001b[0m results \u001b[38;5;241m=\u001b[39m \u001b[43mtracing_compilation\u001b[49m\u001b[38;5;241;43m.\u001b[39;49m\u001b[43mcall_function\u001b[49m\u001b[43m(\u001b[49m\n\u001b[1;32m    879\u001b[0m \u001b[43m    \u001b[49m\u001b[43margs\u001b[49m\u001b[43m,\u001b[49m\u001b[43m \u001b[49m\u001b[43mkwds\u001b[49m\u001b[43m,\u001b[49m\u001b[43m \u001b[49m\u001b[38;5;28;43mself\u001b[39;49m\u001b[38;5;241;43m.\u001b[39;49m\u001b[43m_variable_creation_config\u001b[49m\n\u001b[1;32m    880\u001b[0m \u001b[43m\u001b[49m\u001b[43m)\u001b[49m\n\u001b[1;32m    881\u001b[0m \u001b[38;5;28;01mif\u001b[39;00m \u001b[38;5;28mself\u001b[39m\u001b[38;5;241m.\u001b[39m_created_variables:\n\u001b[1;32m    882\u001b[0m   \u001b[38;5;28;01mraise\u001b[39;00m \u001b[38;5;167;01mValueError\u001b[39;00m(\u001b[38;5;124m\"\u001b[39m\u001b[38;5;124mCreating variables on a non-first call to a function\u001b[39m\u001b[38;5;124m\"\u001b[39m\n\u001b[1;32m    883\u001b[0m                    \u001b[38;5;124m\"\u001b[39m\u001b[38;5;124m decorated with tf.function.\u001b[39m\u001b[38;5;124m\"\u001b[39m)\n",
      "File \u001b[0;32m~/mestrado/lib/python3.12/site-packages/tensorflow/python/eager/polymorphic_function/tracing_compilation.py:139\u001b[0m, in \u001b[0;36mcall_function\u001b[0;34m(args, kwargs, tracing_options)\u001b[0m\n\u001b[1;32m    137\u001b[0m bound_args \u001b[38;5;241m=\u001b[39m function\u001b[38;5;241m.\u001b[39mfunction_type\u001b[38;5;241m.\u001b[39mbind(\u001b[38;5;241m*\u001b[39margs, \u001b[38;5;241m*\u001b[39m\u001b[38;5;241m*\u001b[39mkwargs)\n\u001b[1;32m    138\u001b[0m flat_inputs \u001b[38;5;241m=\u001b[39m function\u001b[38;5;241m.\u001b[39mfunction_type\u001b[38;5;241m.\u001b[39munpack_inputs(bound_args)\n\u001b[0;32m--> 139\u001b[0m \u001b[38;5;28;01mreturn\u001b[39;00m \u001b[43mfunction\u001b[49m\u001b[38;5;241;43m.\u001b[39;49m\u001b[43m_call_flat\u001b[49m\u001b[43m(\u001b[49m\u001b[43m  \u001b[49m\u001b[38;5;66;43;03m# pylint: disable=protected-access\u001b[39;49;00m\n\u001b[1;32m    140\u001b[0m \u001b[43m    \u001b[49m\u001b[43mflat_inputs\u001b[49m\u001b[43m,\u001b[49m\u001b[43m \u001b[49m\u001b[43mcaptured_inputs\u001b[49m\u001b[38;5;241;43m=\u001b[39;49m\u001b[43mfunction\u001b[49m\u001b[38;5;241;43m.\u001b[39;49m\u001b[43mcaptured_inputs\u001b[49m\n\u001b[1;32m    141\u001b[0m \u001b[43m\u001b[49m\u001b[43m)\u001b[49m\n",
      "File \u001b[0;32m~/mestrado/lib/python3.12/site-packages/tensorflow/python/eager/polymorphic_function/concrete_function.py:1322\u001b[0m, in \u001b[0;36mConcreteFunction._call_flat\u001b[0;34m(self, tensor_inputs, captured_inputs)\u001b[0m\n\u001b[1;32m   1318\u001b[0m possible_gradient_type \u001b[38;5;241m=\u001b[39m gradients_util\u001b[38;5;241m.\u001b[39mPossibleTapeGradientTypes(args)\n\u001b[1;32m   1319\u001b[0m \u001b[38;5;28;01mif\u001b[39;00m (possible_gradient_type \u001b[38;5;241m==\u001b[39m gradients_util\u001b[38;5;241m.\u001b[39mPOSSIBLE_GRADIENT_TYPES_NONE\n\u001b[1;32m   1320\u001b[0m     \u001b[38;5;129;01mand\u001b[39;00m executing_eagerly):\n\u001b[1;32m   1321\u001b[0m   \u001b[38;5;66;03m# No tape is watching; skip to running the function.\u001b[39;00m\n\u001b[0;32m-> 1322\u001b[0m   \u001b[38;5;28;01mreturn\u001b[39;00m \u001b[38;5;28;43mself\u001b[39;49m\u001b[38;5;241;43m.\u001b[39;49m\u001b[43m_inference_function\u001b[49m\u001b[38;5;241;43m.\u001b[39;49m\u001b[43mcall_preflattened\u001b[49m\u001b[43m(\u001b[49m\u001b[43margs\u001b[49m\u001b[43m)\u001b[49m\n\u001b[1;32m   1323\u001b[0m forward_backward \u001b[38;5;241m=\u001b[39m \u001b[38;5;28mself\u001b[39m\u001b[38;5;241m.\u001b[39m_select_forward_and_backward_functions(\n\u001b[1;32m   1324\u001b[0m     args,\n\u001b[1;32m   1325\u001b[0m     possible_gradient_type,\n\u001b[1;32m   1326\u001b[0m     executing_eagerly)\n\u001b[1;32m   1327\u001b[0m forward_function, args_with_tangents \u001b[38;5;241m=\u001b[39m forward_backward\u001b[38;5;241m.\u001b[39mforward()\n",
      "File \u001b[0;32m~/mestrado/lib/python3.12/site-packages/tensorflow/python/eager/polymorphic_function/atomic_function.py:216\u001b[0m, in \u001b[0;36mAtomicFunction.call_preflattened\u001b[0;34m(self, args)\u001b[0m\n\u001b[1;32m    214\u001b[0m \u001b[38;5;28;01mdef\u001b[39;00m \u001b[38;5;21mcall_preflattened\u001b[39m(\u001b[38;5;28mself\u001b[39m, args: Sequence[core\u001b[38;5;241m.\u001b[39mTensor]) \u001b[38;5;241m-\u001b[39m\u001b[38;5;241m>\u001b[39m Any:\n\u001b[1;32m    215\u001b[0m \u001b[38;5;250m  \u001b[39m\u001b[38;5;124;03m\"\"\"Calls with flattened tensor inputs and returns the structured output.\"\"\"\u001b[39;00m\n\u001b[0;32m--> 216\u001b[0m   flat_outputs \u001b[38;5;241m=\u001b[39m \u001b[38;5;28;43mself\u001b[39;49m\u001b[38;5;241;43m.\u001b[39;49m\u001b[43mcall_flat\u001b[49m\u001b[43m(\u001b[49m\u001b[38;5;241;43m*\u001b[39;49m\u001b[43margs\u001b[49m\u001b[43m)\u001b[49m\n\u001b[1;32m    217\u001b[0m   \u001b[38;5;28;01mreturn\u001b[39;00m \u001b[38;5;28mself\u001b[39m\u001b[38;5;241m.\u001b[39mfunction_type\u001b[38;5;241m.\u001b[39mpack_output(flat_outputs)\n",
      "File \u001b[0;32m~/mestrado/lib/python3.12/site-packages/tensorflow/python/eager/polymorphic_function/atomic_function.py:251\u001b[0m, in \u001b[0;36mAtomicFunction.call_flat\u001b[0;34m(self, *args)\u001b[0m\n\u001b[1;32m    249\u001b[0m \u001b[38;5;28;01mwith\u001b[39;00m record\u001b[38;5;241m.\u001b[39mstop_recording():\n\u001b[1;32m    250\u001b[0m   \u001b[38;5;28;01mif\u001b[39;00m \u001b[38;5;28mself\u001b[39m\u001b[38;5;241m.\u001b[39m_bound_context\u001b[38;5;241m.\u001b[39mexecuting_eagerly():\n\u001b[0;32m--> 251\u001b[0m     outputs \u001b[38;5;241m=\u001b[39m \u001b[38;5;28;43mself\u001b[39;49m\u001b[38;5;241;43m.\u001b[39;49m\u001b[43m_bound_context\u001b[49m\u001b[38;5;241;43m.\u001b[39;49m\u001b[43mcall_function\u001b[49m\u001b[43m(\u001b[49m\n\u001b[1;32m    252\u001b[0m \u001b[43m        \u001b[49m\u001b[38;5;28;43mself\u001b[39;49m\u001b[38;5;241;43m.\u001b[39;49m\u001b[43mname\u001b[49m\u001b[43m,\u001b[49m\n\u001b[1;32m    253\u001b[0m \u001b[43m        \u001b[49m\u001b[38;5;28;43mlist\u001b[39;49m\u001b[43m(\u001b[49m\u001b[43margs\u001b[49m\u001b[43m)\u001b[49m\u001b[43m,\u001b[49m\n\u001b[1;32m    254\u001b[0m \u001b[43m        \u001b[49m\u001b[38;5;28;43mlen\u001b[39;49m\u001b[43m(\u001b[49m\u001b[38;5;28;43mself\u001b[39;49m\u001b[38;5;241;43m.\u001b[39;49m\u001b[43mfunction_type\u001b[49m\u001b[38;5;241;43m.\u001b[39;49m\u001b[43mflat_outputs\u001b[49m\u001b[43m)\u001b[49m\u001b[43m,\u001b[49m\n\u001b[1;32m    255\u001b[0m \u001b[43m    \u001b[49m\u001b[43m)\u001b[49m\n\u001b[1;32m    256\u001b[0m   \u001b[38;5;28;01melse\u001b[39;00m:\n\u001b[1;32m    257\u001b[0m     outputs \u001b[38;5;241m=\u001b[39m make_call_op_in_graph(\n\u001b[1;32m    258\u001b[0m         \u001b[38;5;28mself\u001b[39m,\n\u001b[1;32m    259\u001b[0m         \u001b[38;5;28mlist\u001b[39m(args),\n\u001b[1;32m    260\u001b[0m         \u001b[38;5;28mself\u001b[39m\u001b[38;5;241m.\u001b[39m_bound_context\u001b[38;5;241m.\u001b[39mfunction_call_options\u001b[38;5;241m.\u001b[39mas_attrs(),\n\u001b[1;32m    261\u001b[0m     )\n",
      "File \u001b[0;32m~/mestrado/lib/python3.12/site-packages/tensorflow/python/eager/context.py:1552\u001b[0m, in \u001b[0;36mContext.call_function\u001b[0;34m(self, name, tensor_inputs, num_outputs)\u001b[0m\n\u001b[1;32m   1550\u001b[0m cancellation_context \u001b[38;5;241m=\u001b[39m cancellation\u001b[38;5;241m.\u001b[39mcontext()\n\u001b[1;32m   1551\u001b[0m \u001b[38;5;28;01mif\u001b[39;00m cancellation_context \u001b[38;5;129;01mis\u001b[39;00m \u001b[38;5;28;01mNone\u001b[39;00m:\n\u001b[0;32m-> 1552\u001b[0m   outputs \u001b[38;5;241m=\u001b[39m \u001b[43mexecute\u001b[49m\u001b[38;5;241;43m.\u001b[39;49m\u001b[43mexecute\u001b[49m\u001b[43m(\u001b[49m\n\u001b[1;32m   1553\u001b[0m \u001b[43m      \u001b[49m\u001b[43mname\u001b[49m\u001b[38;5;241;43m.\u001b[39;49m\u001b[43mdecode\u001b[49m\u001b[43m(\u001b[49m\u001b[38;5;124;43m\"\u001b[39;49m\u001b[38;5;124;43mutf-8\u001b[39;49m\u001b[38;5;124;43m\"\u001b[39;49m\u001b[43m)\u001b[49m\u001b[43m,\u001b[49m\n\u001b[1;32m   1554\u001b[0m \u001b[43m      \u001b[49m\u001b[43mnum_outputs\u001b[49m\u001b[38;5;241;43m=\u001b[39;49m\u001b[43mnum_outputs\u001b[49m\u001b[43m,\u001b[49m\n\u001b[1;32m   1555\u001b[0m \u001b[43m      \u001b[49m\u001b[43minputs\u001b[49m\u001b[38;5;241;43m=\u001b[39;49m\u001b[43mtensor_inputs\u001b[49m\u001b[43m,\u001b[49m\n\u001b[1;32m   1556\u001b[0m \u001b[43m      \u001b[49m\u001b[43mattrs\u001b[49m\u001b[38;5;241;43m=\u001b[39;49m\u001b[43mattrs\u001b[49m\u001b[43m,\u001b[49m\n\u001b[1;32m   1557\u001b[0m \u001b[43m      \u001b[49m\u001b[43mctx\u001b[49m\u001b[38;5;241;43m=\u001b[39;49m\u001b[38;5;28;43mself\u001b[39;49m\u001b[43m,\u001b[49m\n\u001b[1;32m   1558\u001b[0m \u001b[43m  \u001b[49m\u001b[43m)\u001b[49m\n\u001b[1;32m   1559\u001b[0m \u001b[38;5;28;01melse\u001b[39;00m:\n\u001b[1;32m   1560\u001b[0m   outputs \u001b[38;5;241m=\u001b[39m execute\u001b[38;5;241m.\u001b[39mexecute_with_cancellation(\n\u001b[1;32m   1561\u001b[0m       name\u001b[38;5;241m.\u001b[39mdecode(\u001b[38;5;124m\"\u001b[39m\u001b[38;5;124mutf-8\u001b[39m\u001b[38;5;124m\"\u001b[39m),\n\u001b[1;32m   1562\u001b[0m       num_outputs\u001b[38;5;241m=\u001b[39mnum_outputs,\n\u001b[0;32m   (...)\u001b[0m\n\u001b[1;32m   1566\u001b[0m       cancellation_manager\u001b[38;5;241m=\u001b[39mcancellation_context,\n\u001b[1;32m   1567\u001b[0m   )\n",
      "File \u001b[0;32m~/mestrado/lib/python3.12/site-packages/tensorflow/python/eager/execute.py:53\u001b[0m, in \u001b[0;36mquick_execute\u001b[0;34m(op_name, num_outputs, inputs, attrs, ctx, name)\u001b[0m\n\u001b[1;32m     51\u001b[0m \u001b[38;5;28;01mtry\u001b[39;00m:\n\u001b[1;32m     52\u001b[0m   ctx\u001b[38;5;241m.\u001b[39mensure_initialized()\n\u001b[0;32m---> 53\u001b[0m   tensors \u001b[38;5;241m=\u001b[39m \u001b[43mpywrap_tfe\u001b[49m\u001b[38;5;241;43m.\u001b[39;49m\u001b[43mTFE_Py_Execute\u001b[49m\u001b[43m(\u001b[49m\u001b[43mctx\u001b[49m\u001b[38;5;241;43m.\u001b[39;49m\u001b[43m_handle\u001b[49m\u001b[43m,\u001b[49m\u001b[43m \u001b[49m\u001b[43mdevice_name\u001b[49m\u001b[43m,\u001b[49m\u001b[43m \u001b[49m\u001b[43mop_name\u001b[49m\u001b[43m,\u001b[49m\n\u001b[1;32m     54\u001b[0m \u001b[43m                                      \u001b[49m\u001b[43minputs\u001b[49m\u001b[43m,\u001b[49m\u001b[43m \u001b[49m\u001b[43mattrs\u001b[49m\u001b[43m,\u001b[49m\u001b[43m \u001b[49m\u001b[43mnum_outputs\u001b[49m\u001b[43m)\u001b[49m\n\u001b[1;32m     55\u001b[0m \u001b[38;5;28;01mexcept\u001b[39;00m core\u001b[38;5;241m.\u001b[39m_NotOkStatusException \u001b[38;5;28;01mas\u001b[39;00m e:\n\u001b[1;32m     56\u001b[0m   \u001b[38;5;28;01mif\u001b[39;00m name \u001b[38;5;129;01mis\u001b[39;00m \u001b[38;5;129;01mnot\u001b[39;00m \u001b[38;5;28;01mNone\u001b[39;00m:\n",
      "\u001b[0;31mKeyboardInterrupt\u001b[0m: "
     ]
    }
   ],
   "source": [
    "\n",
    "\n",
    "# Inicializando listas para armazenar métricas e tempos\n",
    "vetAccuracyDeep = []\n",
    "vetPrecisionDeep = []\n",
    "vetRecallDeep = []\n",
    "vetF1Deep = []\n",
    "training_times = []\n",
    "inference_times = []\n",
    "all_y_test_Deep = []\n",
    "all_y_pred_Deep = []\n",
    "\n",
    "for train_index, test_index in kf.split(X_truncated):\n",
    "    print(X_truncated.shape)\n",
    "    print(X_truncated.size)   \n",
    "    x_train, x_test = X_truncated[train_index], X_truncated[test_index]\n",
    "    y_train, y_test = y_encoded[train_index], y_encoded[test_index]\n",
    "    print(np.unique(y_train))\n",
    "    print(np.unique(y_test))\n",
    "    print(x_train.shape)  #para x_train\n",
    "    print(x_test.shape)   #Para x_test\n",
    "    n_sentence = 1\n",
    "\n",
    "    x_train = x_train.reshape(x_train.shape[0], n_sentence, x_train.shape[1])  # (38947, 1, 768)\n",
    "    x_test = x_test.reshape(x_test.shape[0], n_sentence, x_test.shape[1])  # (4328, 1, 768)\n",
    "\n",
    "    #Definindo o modelo\n",
    "\n",
    "    modelDeepClass = Sequential([\n",
    "        LSTM(100, dropout=0.5, recurrent_dropout=0.3, return_sequences=False),\n",
    "        Dense(50, activation='relu'),\n",
    "        Dense(10, activation='relu'),\n",
    "        Dense(num_classes, activation='softmax')\n",
    "    ])\n",
    "\n",
    "    adam = Adam(learning_rate=0.001)\n",
    "    modelDeepClass.compile(loss='sparse_categorical_crossentropy', optimizer=adam, metrics=['accuracy'])\n",
    "\n",
    "    # Early stopping\n",
    "    es = EarlyStopping(monitor='val_accuracy', mode='max', verbose=1, patience=50, restore_best_weights=True)\n",
    "\n",
    "    # Treinando o modelo\n",
    "    start_training = time.time()\n",
    "    modelDeepClass.fit(\n",
    "        x_train, y_train,\n",
    "        batch_size=128,\n",
    "        epochs=30,\n",
    "        validation_data=(x_test, y_test),\n",
    "        callbacks=[es],\n",
    "        verbose=0\n",
    "    )\n",
    "    end_training = time.time()\n",
    "    training_time = end_training - start_training\n",
    "    training_times.append(training_time)\n",
    "    # Fazendo previsões e medindo o tempo\n",
    "    start_inference = time.time()\n",
    "    y_pred = modelDeepClass.predict(x_test)\n",
    "    end_inference = time.time()\n",
    "    inference_time = end_inference - start_inference\n",
    "    inference_times.append(inference_time)\n",
    "\n",
    "    y_pred_classes = np.argmax(y_pred, axis=1)\n",
    "\n",
    "    # Calculando métricas\n",
    "    accuracy = accuracy_score(y_test, y_pred_classes)\n",
    "    class_report = classification_report(y_test, y_pred_classes, output_dict=True)\n",
    "\n",
    "    vetAccuracyDeep.append(accuracy)\n",
    "    vetPrecisionDeep.append(class_report['macro avg']['precision'])\n",
    "    vetRecallDeep.append(class_report['macro avg']['recall'])\n",
    "    vetF1Deep.append(class_report['macro avg']['f1-score'])\n",
    "\n",
    "    all_y_test_Deep.extend(y_test)\n",
    "    all_y_pred_Deep.extend(y_pred_classes)\n",
    "\n",
    "# Relatório final de métricas\n",
    "print(f\"Média Accuracy: {np.mean(vetAccuracyDeep):.4f} ± {np.std(vetAccuracyDeep):.4f}\")\n",
    "print(f\"Média Precision: {np.mean(vetPrecisionDeep):.4f} ± {np.std(vetPrecisionDeep):.4f}\")\n",
    "print(f\"Média Recall: {np.mean(vetRecallDeep):.4f} ± {np.std(vetRecallDeep):.4f}\")\n",
    "print(f\"Média F1-Score: {np.mean(vetF1Deep):.4f} ± {np.std(vetF1Deep):.4f}\")\n",
    "print(f\"Tempo médio de treinamento: {np.mean(training_times):.2f} ± {np.std(training_times):.2f} segundos\")\n",
    "print(f\"Tempo médio de inferência: {np.mean(inference_times):.2f} ± {np.std(inference_times):.2f} segundos\")\n"
   ]
  },
  {
   "cell_type": "code",
   "execution_count": null,
   "metadata": {},
   "outputs": [],
   "source": [
    "# Relatório de métricas finais\n",
    "print(f'Média Accuracy: {np.mean(vetAccuracyDeep)} ± {np.std(vetAccuracyDeep)}')\n",
    "print(f'Média Precision: {np.mean(vetPrecisionDeep)} ± {np.std(vetPrecisionDeep)}')\n",
    "print(f'Média Recall: {np.mean(vetRecallDeep)} ± {np.std(vetRecallDeep)}')\n",
    "print(f'Média F1-Score: {np.mean(vetF1Deep)} ± {np.std(vetF1Deep)}')"
   ]
  },
  {
   "cell_type": "code",
   "execution_count": null,
   "metadata": {},
   "outputs": [],
   "source": [
    "\n",
    "\n",
    "# Definir as classes do experimento E5\n",
    "\n",
    "\n",
    "# Converter as previsões para classes discretas\n",
    "\n",
    "#all_y_test_Deep, all_y_pred_Deep,\n",
    "#classes = np.array([1, 2, 3, 5, 8, 13, 20, 40, 100])\n",
    "classes = np.array([1, 2, 3, 4, 5, 6, 7, 8])\n",
    "\n",
    "# Gerar a matriz de confusão\n",
    "matriz_confusao_deep = confusion_matrix(all_y_test_Deep, all_y_pred_Deep, labels=classes)\n",
    "\n",
    "# Calcular a proporção para cada classe verdadeira (linha)\n",
    "matriz_confusao_proporcao = matriz_confusao.astype('float') / matriz_confusao_deep.sum(axis=1)[:, np.newaxis]\n",
    "\n",
    "# Exibir a matriz de confusão usando seaborn para visualização\n",
    "plt.figure(figsize=(10, 8))\n",
    "sns.heatmap(matriz_confusao_proporcao, annot=True, fmt=\".2f\", cmap=\"Blues\", xticklabels=classes, yticklabels=classes)\n",
    "plt.xlabel('Predicted label')\n",
    "plt.ylabel('True label')\n",
    "plt.title('Confusion Matrix - Deep Learning Model (Proportion)')\n",
    "plt.show()"
   ]
  },
  {
   "cell_type": "markdown",
   "metadata": {},
   "source": [
    "### Random Forest"
   ]
  },
  {
   "cell_type": "code",
   "execution_count": null,
   "metadata": {},
   "outputs": [],
   "source": [
    "\n",
    "# Inicializando listas para métricas e tempos\n",
    "vetAccuracyRF = []\n",
    "vetPrecisionRF = []\n",
    "vetRecallRF = []\n",
    "vetF1RF = []\n",
    "training_times_rf = []\n",
    "inference_times_rf = []\n",
    "\n",
    "all_y_test_RF = []\n",
    "all_y_pred_RF = []\n",
    "\n",
    "\n",
    "# Inicializando validação cruzada estratificada\n",
    "#kf = StratifiedKFold(n_splits=10, shuffle=True, random_state=42)\n",
    "\n",
    "# Loop pelos folds\n",
    "for train_index, test_index in kf.split(X_truncated):\n",
    "    x_train, x_test = X_truncated[train_index], X_truncated[test_index]\n",
    "    y_train, y_test = y_encoded[train_index], y_encoded[test_index]\n",
    "    \n",
    "    # Verificando balanceamento das classes\n",
    "    print(\"Distribuição de classes no treino:\", Counter(y_train))\n",
    "    print(\"Distribuição de classes no teste:\", Counter(y_test))\n",
    "\n",
    "    # Instanciando o modelo Random Forest\n",
    "    rf_model = RandomForestClassifier(n_estimators=100, random_state=42)\n",
    "    \n",
    "    # Treinando o modelo e medindo o tempo de treinamento\n",
    "    start_training = time.time()\n",
    "    rf_model.fit(x_train, y_train)\n",
    "    end_training = time.time()\n",
    "    training_time = end_training - start_training\n",
    "    training_times_rf.append(training_time)\n",
    "    \n",
    "    # Fazendo previsões e medindo o tempo de inferência\n",
    "    start_inference = time.time()\n",
    "    y_pred = rf_model.predict(x_test)\n",
    "    end_inference = time.time()\n",
    "    inference_time = end_inference - start_inference\n",
    "    inference_times_rf.append(inference_time)\n",
    "    \n",
    "    # Calculando métricas\n",
    "    accuracy = accuracy_score(y_test, y_pred)\n",
    "    class_report = classification_report(y_test, y_pred, output_dict=True, zero_division=0)\n",
    "    \n",
    "    vetAccuracyRF.append(accuracy)\n",
    "    vetPrecisionRF.append(class_report['macro avg']['precision'])\n",
    "    vetRecallRF.append(class_report['macro avg']['recall'])\n",
    "    vetF1RF.append(class_report['macro avg']['f1-score'])\n",
    "    \n",
    "    all_y_test_RF.extend(y_test)\n",
    "    all_y_pred_RF.extend(y_pred)\n",
    "\n",
    "# Salvando o modelo treinado com joblib\n",
    "model_filename = f\"random_forest_.joblib\"\n",
    "joblib.dump(rf_model, model_filename)\n",
    "print(f\"Modelo salvo em {model_filename}\")\n",
    "\n",
    "# Relatório final de métricas\n",
    "print(f\"Média Accuracy: {np.mean(vetAccuracyRF):.4f} ± {np.std(vetAccuracyRF):.4f}\")\n",
    "print(f\"Média Precision: {np.mean(vetPrecisionRF):.4f} ± {np.std(vetPrecisionRF):.4f}\")\n",
    "print(f\"Média Recall: {np.mean(vetRecallRF):.4f} ± {np.std(vetRecallRF):.4f}\")\n",
    "print(f\"Média F1-Score: {np.mean(vetF1RF):.4f} ± {np.std(vetF1RF):.4f}\")\n",
    "print(f\"Tempo médio de treinamento: {np.mean(training_times_rf):.2f} ± {np.std(training_times_rf):.2f} segundos\")\n",
    "print(f\"Tempo médio de inferência: {np.mean(inference_times_rf):.2f} ± {np.std(inference_times_rf):.2f} segundos\")\n"
   ]
  },
  {
   "cell_type": "code",
   "execution_count": null,
   "metadata": {},
   "outputs": [],
   "source": [
    "\n",
    "\n",
    "# Definir as classes do experimento E5\n",
    "\n",
    "\n",
    "# Converter as previsões para classes discretas\n",
    "\n",
    "#all_y_test_Deep, all_y_pred_Deep,\n",
    "#classes = np.array([1, 2, 3, 5, 8, 13, 20, 40, 100])\n",
    "classes = np.array([1, 2, 3, 4, 5, 6, 7, 8])\n",
    "\n",
    "# Gerar a matriz de confusão\n",
    "matriz_confusao_rf = confusion_matrix(all_y_test_RF, all_y_pred_RF, labels=classes)\n",
    "\n",
    "# Calcular a proporção para cada classe verdadeira (linha)\n",
    "matriz_confusao_proporcao_rf = matriz_confusao_rf.astype('float') / matriz_confusao_rf.sum(axis=1)[:, np.newaxis]\n",
    "\n",
    "# Exibir a matriz de confusão usando seaborn para visualização\n",
    "plt.figure(figsize=(10, 8))\n",
    "sns.heatmap(matriz_confusao_proporcao_rf, annot=True, fmt=\".2f\", cmap=\"Blues\", xticklabels=classes, yticklabels=classes)\n",
    "plt.xlabel('Rótulo predito')\n",
    "plt.ylabel('Rótulo verdadeiro')\n",
    "plt.title('Matriz de Confusão - Random Forest (pt)')\n",
    "plt.show()"
   ]
  },
  {
   "cell_type": "markdown",
   "metadata": {},
   "source": [
    "### SCV"
   ]
  },
  {
   "cell_type": "code",
   "execution_count": null,
   "metadata": {},
   "outputs": [],
   "source": [
    "\n",
    "#Inicializando listas para métricas e tempos\n",
    "vetAccuracySVM = []\n",
    "vetPrecisionSVM = []\n",
    "vetRecallSVM = []\n",
    "vetF1SVM = []\n",
    "training_times_svm = []\n",
    "inference_times_svm = []\n",
    "\n",
    "all_y_test_svm = []\n",
    "all_y_pred_svm= []\n",
    "\n",
    "\n",
    "# Loop pelos folds\n",
    "for train_index, test_index in kf.split(X_truncated):\n",
    "    x_train, x_test = X_truncated[train_index], X_truncated[test_index]\n",
    "    y_train, y_test = y_encoded[train_index], y_encoded[test_index]\n",
    "    \n",
    "    # Verificando balanceamento das classes\n",
    "    print(\"Distribuição de classes no treino:\", Counter(y_train))\n",
    "    print(\"Distribuição de classes no teste:\", Counter(y_test))\n",
    "\n",
    "    #Instanciando o modelo SVM\n",
    "    svm_model = SVC(kernel='rbf', random_state=42)\n",
    "\n",
    "    #Treinando o modelo e medindo o tempo de treinamento\n",
    "    start_training_svm = time.time()\n",
    "    svm_model.fit(x_train, y_train)\n",
    "    end_training_svm = time.time()\n",
    "    training_time_svm = end_training_svm - start_training_svm\n",
    "    training_times_svm.append(training_time_svm)\n",
    "    \n",
    "    #Fazendo previsões e medindo o tempo de inferência\n",
    "    start_inference = time.time()\n",
    "    y_pred = svm_model.predict(x_test)\n",
    "    end_inference = time.time()\n",
    "    inference_time = end_inference - start_inference\n",
    "    inference_times_svm.append(inference_time)\n",
    "    \n",
    "    #Calculando métricas\n",
    "    accuracy = accuracy_score(y_test, y_pred)\n",
    "    class_report = classification_report(y_test, y_pred, output_dict=True, zero_division=0)\n",
    "    \n",
    "    vetAccuracySVM.append(accuracy)\n",
    "    vetPrecisionSVM.append(class_report['macro avg']['precision'])\n",
    "    vetRecallSVM.append(class_report['macro avg']['recall'])\n",
    "    vetF1SVM.append(class_report['macro avg']['f1-score'])\n",
    "    \n",
    "    all_y_test_svm.extend(y_test)\n",
    "    all_y_pred_svm.extend(y_pred)\n",
    "\n",
    "#Salvando o modelo treinado com joblib\n",
    "model_filename = f\"svm_model.joblib\"\n",
    "joblib.dump(svm_model, model_filename)\n",
    "print(f\"Modelo salvo em {model_filename}\")\n",
    "\n",
    "#Relatório final de métricas\n",
    "print(f\"Média Accuracy: {np.mean(vetAccuracySVM):.4f} ± {np.std(vetAccuracySVM):.4f}\")\n",
    "print(f\"Média Precision: {np.mean(vetPrecisionSVM):.4f} ± {np.std(vetPrecisionSVM):.4f}\")\n",
    "print(f\"Média Recall: {np.mean(vetRecallSVM):.4f} ± {np.std(vetRecallSVM):.4f}\")\n",
    "print(f\"Média F1-Score: {np.mean(vetF1SVM):.4f} ± {np.std(vetF1SVM):.4f}\")\n",
    "print(f\"Tempo médio de treinamento: {np.mean(training_times_svm):.2f} ± {np.std(training_times_svm):.2f} segundos\")\n",
    "print(f\"Tempo médio de inferência: {np.mean(inference_times_svm):.2f} ± {np.std(inference_times_svm):.2f} segundos\")\n",
    "\n",
    "\n"
   ]
  },
  {
   "cell_type": "code",
   "execution_count": null,
   "metadata": {},
   "outputs": [],
   "source": [
    "\n",
    "\n",
    "# Definir as classes do experimento E5\n",
    "\n",
    "\n",
    "# Converter as previsões para classes discretas\n",
    "\n",
    "#all_y_test_Deep, all_y_pred_Deep,\n",
    "#classes = np.array([1, 2, 3, 5, 8, 13, 20, 40, 100])\n",
    "classes = np.array([0, 1, 2, 3, 4, 5, 6, 7, 8])\n",
    "\n",
    "# Gerar a matriz de confusão\n",
    "matriz_confusao = confusion_matrix(all_y_test_svm, all_y_pred_svm, labels=classes)\n",
    "\n",
    "# Calcular a proporção para cada classe verdadeira (linha)\n",
    "matriz_confusao_proporcao = matriz_confusao.astype('float') / matriz_confusao.sum(axis=1)[:, np.newaxis]\n",
    "\n",
    "# Exibir a matriz de confusão usando seaborn para visualização\n",
    "plt.figure(figsize=(10, 8))\n",
    "sns.heatmap(matriz_confusao_proporcao, annot=True, fmt=\".2f\", cmap=\"Blues\", xticklabels=classes, yticklabels=classes)\n",
    "plt.xlabel('Predicted label')\n",
    "plt.ylabel('True label')\n",
    "plt.title('Confusion Matrix - SVM Model (Proportion)')\n",
    "plt.show()"
   ]
  }
 ],
 "metadata": {
  "kernelspec": {
   "display_name": "mestrado",
   "language": "python",
   "name": "python3"
  },
  "language_info": {
   "codemirror_mode": {
    "name": "ipython",
    "version": 3
   },
   "file_extension": ".py",
   "mimetype": "text/x-python",
   "name": "python",
   "nbconvert_exporter": "python",
   "pygments_lexer": "ipython3",
   "version": "3.12.3"
  }
 },
 "nbformat": 4,
 "nbformat_minor": 2
}
